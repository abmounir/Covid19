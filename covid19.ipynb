{
 "cells": [
  {
   "cell_type": "code",
   "execution_count": 192,
   "metadata": {},
   "outputs": [],
   "source": [
    "from bs4 import BeautifulSoup as bs\n",
    "from urllib.request import urlopen\n",
    "import requests "
   ]
  },
  {
   "cell_type": "code",
   "execution_count": 206,
   "metadata": {},
   "outputs": [],
   "source": [
    "page=requests.get('https://www.worldometers.info/coronavirus/')\n"
   ]
  },
  {
   "cell_type": "code",
   "execution_count": 222,
   "metadata": {},
   "outputs": [],
   "source": [
    "soup=bs(page.content,'html.parser')"
   ]
  },
  {
   "cell_type": "code",
   "execution_count": 386,
   "metadata": {
    "tags": [
     "outputPrepend"
    ]
   },
   "outputs": [
    {
     "output_type": "execute_result",
     "data": {
      "text/plain": "'102,078,159 '"
     },
     "metadata": {},
     "execution_count": 386
    }
   ],
   "source": [
    "class Covid:\n",
    "    countries=[]\n",
    "    total_cases=[]\n",
    "    new_cases=[]\n",
    "    total_deaths=[]\n",
    "    new_deaths=[]\n",
    "    total_recovered=[]\n",
    "    active_cases=[]\n",
    "    critical=[]\n",
    "    tot_cases_1m_pop=[]\n",
    "    deaths_1m_pop=[]\n",
    "    total_tests=[]\n",
    "    tests_1m_pop=[]\n",
    "    population=[]\n",
    "    def __init__(self):\n",
    "        for tr in soup.tbody.find_all('tr')[7:]:\n",
    "            self.countries.append(tr.find_all('td')[1].text)\n",
    "            self.total_cases.append(tr.find_all('td')[2].text)\n",
    "            self.new_cases.append(tr.find_all('td')[3].text)\n",
    "            self.total_deaths.append(tr.find_all('td')[4].text)\n",
    "            self.new_deaths.append(tr.find_all('td')[5].text)\n",
    "            self.total_recovered.append(tr.find_all('td')[6].text)\n",
    "            self.active_cases.append(tr.find_all('td')[7].text)\n",
    "            self.critical.append(tr.find_all('td')[8].text)\n",
    "            self.tot_cases_1m_pop.append(tr.find_all('td')[9].text)\n",
    "            self.deaths_1m_pop.append(tr.find_all('td')[10].text)\n",
    "            self.total_tests.append(tr.find_all('td')[11].text)\n",
    "            self.tests_1m_pop.append(tr.find_all('td')[12].text)\n",
    "            self.population.append(tr.find_all('td')[13].text)\n",
    "    def get_total_cases(self,country):\n",
    "        i=0\n",
    "        index=0\n",
    "        for c in self.countries:\n",
    "            if str(country).lower()==c.lower():\n",
    "                index=i\n",
    "            else:\n",
    "                i+=1\n",
    "        return self.total_cases[index]\n",
    "    def get_new_cases(self,country):\n",
    "        i=0\n",
    "        index=0\n",
    "        for c in self.countries:\n",
    "            if str(country).lower()==c.lower():\n",
    "                index=i\n",
    "            else:\n",
    "                i+=1\n",
    "        return self.new_cases[index]\n",
    "    def get_total_deaths(self,country):\n",
    "        i=0\n",
    "        index=0\n",
    "        for c in self.countries:\n",
    "            if str(country).lower()==c.lower():\n",
    "                index=i\n",
    "            else:\n",
    "                i+=1\n",
    "        return self.total_deaths[index]\n",
    "    def get_new_deaths(self,country):\n",
    "        i=0\n",
    "        index=0\n",
    "        for c in self.countries:\n",
    "            if str(country).lower()==c.lower():\n",
    "                index=i\n",
    "            else:\n",
    "                i+=1\n",
    "        return self.new_deaths[index]\n",
    "    def get_total_recovered(self,country):\n",
    "        i=0\n",
    "        index=0\n",
    "        for c in self.countries:\n",
    "            if str(country).lower()==c.lower():\n",
    "                index=i\n",
    "            else:\n",
    "                i+=1\n",
    "        return self.total_recovered[index]\n",
    "    def get_active_cases(self,country):\n",
    "        i=0\n",
    "        index=0\n",
    "        for c in self.countries:\n",
    "            if str(country).lower()==c.lower():\n",
    "                index=i\n",
    "            else:\n",
    "                i+=1\n",
    "        return self.active_cases[index]\n",
    "    def get_critical(self,country):\n",
    "        i=0\n",
    "        index=0\n",
    "        for c in self.countries:\n",
    "            if str(country).lower()==c.lower():\n",
    "                index=i\n",
    "            else:\n",
    "                i+=1\n",
    "        return self.critical[index]\n",
    "    def get_population(self,country):\n",
    "        i=0\n",
    "        index=0\n",
    "        for c in self.countries:\n",
    "            if str(country).lower()==c.lower():\n",
    "                index=i\n",
    "            else:\n",
    "                i+=1\n",
    "        return self.population[index]\n",
    "    \n",
    "\n",
    "\n",
    "cv=Covid()\n",
    "cv.get_population('egypt')\n"
   ]
  },
  {
   "cell_type": "code",
   "execution_count": 219,
   "metadata": {},
   "outputs": [],
   "source": [
    "from flask import Flask,jsonify,request\n",
    "\n",
    "app=Flask(__name__)\n",
    "\n",
    "@app.route('/<str:country>',methods=['GET'])\n",
    "def total_cases(country):\n",
    "    return jsonify({'country':cv.get_total_cases(country)})\n",
    "\n",
    "if __name__='__main__':\n",
    "    app.run(debug=True)\n"
   ]
  }
 ],
 "metadata": {
  "language_info": {
   "codemirror_mode": {
    "name": "ipython",
    "version": 3
   },
   "file_extension": ".py",
   "mimetype": "text/x-python",
   "name": "python",
   "nbconvert_exporter": "python",
   "pygments_lexer": "ipython3",
   "version": "3.6.8-final"
  },
  "orig_nbformat": 2,
  "kernelspec": {
   "name": "python36864bita6d795b50e454a56a78f2d16281a246d",
   "display_name": "Python 3.6.8 64-bit"
  }
 },
 "nbformat": 4,
 "nbformat_minor": 2
}